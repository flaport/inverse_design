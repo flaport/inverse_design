{
 "cells": [
  {
   "cell_type": "code",
   "execution_count": null,
   "id": "5e328a8d-c221-4374-98d3-9f41119065c5",
   "metadata": {},
   "outputs": [],
   "source": [
    "# default_exp brushes"
   ]
  },
  {
   "cell_type": "markdown",
   "id": "603a2587-7c41-4fb8-9cd9-08a0c163b214",
   "metadata": {},
   "source": [
    "# Brushes\n",
    "> Brushes to create designs with"
   ]
  },
  {
   "cell_type": "code",
   "execution_count": null,
   "id": "7497714b-d291-42c2-82f1-3618c558f361",
   "metadata": {},
   "outputs": [],
   "source": [
    "# hide\n",
    "import sys; sys.path.insert(0, '..') # make sure rust binary can be found..."
   ]
  },
  {
   "cell_type": "code",
   "execution_count": null,
   "id": "90cced79-de37-42bb-a64f-5f1c73fafbc1",
   "metadata": {},
   "outputs": [],
   "source": [
    "# exporti\n",
    "import jax.numpy as jnp\n",
    "import matplotlib.pyplot as plt\n",
    "from matplotlib.colors import ListedColormap"
   ]
  },
  {
   "cell_type": "code",
   "execution_count": null,
   "id": "e96e2a19-6924-412f-a34d-3e95c4418cd2",
   "metadata": {},
   "outputs": [],
   "source": [
    "# export\n",
    "def show_mask(brush):\n",
    "    nx, ny = brush.shape\n",
    "    _cmap = ListedColormap(colors={0: \"#ffffff\", 1: \"#929292\"}.values())\n",
    "    ax = plt.gca()\n",
    "    \n",
    "    ax.set_yticks(jnp.arange(nx)+0.5)\n",
    "    ax.set_yticklabels([\"\" for i in range(nx)])\n",
    "    ax.set_xticks(jnp.arange(ny)+0.5)\n",
    "    ax.set_xticklabels([\"\" for i in range(ny)])\n",
    "    ax.set_yticks(jnp.arange(nx), minor=True)\n",
    "    ax.set_yticklabels([f\"{i}\" for i in range(nx)], minor=True)\n",
    "    ax.set_xticks(jnp.arange(ny), minor=True)\n",
    "    ax.set_xticklabels([f\"{i}\" for i in range(ny)], minor=True)\n",
    "    \n",
    "    plt.grid(True, color=\"k\")\n",
    "    plt.imshow(brush, cmap=_cmap, vmin=0, vmax=1)\n",
    "    plt.colorbar()"
   ]
  },
  {
   "cell_type": "code",
   "execution_count": null,
   "id": "ab4222a0-68f7-48e7-98c1-d68c1f44d2cb",
   "metadata": {},
   "outputs": [],
   "source": [
    "# export\n",
    "def circular_brush(diameter):\n",
    "    radius = diameter / 2\n",
    "    X, Y = jnp.mgrid[-radius : radius : 1j * diameter, -radius : radius : 1j * diameter]\n",
    "    _int = lambda x: jnp.array(x, dtype=int)\n",
    "    brush = _int(X) ** 2 + _int(Y) ** 2 < radius ** 2\n",
    "    return brush"
   ]
  },
  {
   "cell_type": "code",
   "execution_count": null,
   "id": "3ea86ec2-a0a8-4590-8bd5-92b618ed3cff",
   "metadata": {},
   "outputs": [],
   "source": [
    "show_mask(circular_brush(13))"
   ]
  },
  {
   "cell_type": "code",
   "execution_count": null,
   "id": "6519e77f-74af-4ada-ba23-ba4b5e430207",
   "metadata": {},
   "outputs": [],
   "source": [
    "# export\n",
    "def notched_square_brush(width, notch):\n",
    "    Z = jnp.ones((width, width), dtype=bool)\n",
    "    notch = abs(notch)\n",
    "    if notch > 0:\n",
    "        Z = Z.at[:notch, :notch].set(False)\n",
    "        Z = Z.at[:notch, -notch:].set(False)\n",
    "        Z = Z.at[-notch:, :notch].set(False)\n",
    "        Z = Z.at[-notch:, -notch:].set(False)\n",
    "    return Z"
   ]
  },
  {
   "cell_type": "code",
   "execution_count": null,
   "id": "fc79df6f-bf6a-4a3b-9bd1-21ab64bd637b",
   "metadata": {},
   "outputs": [],
   "source": [
    "show_mask(notched_square_brush(5, 1))"
   ]
  }
 ],
 "metadata": {
  "kernelspec": {
   "display_name": "x",
   "language": "python",
   "name": "x"
  }
 },
 "nbformat": 4,
 "nbformat_minor": 5
}
