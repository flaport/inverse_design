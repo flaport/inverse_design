{
 "cells": [
  {
   "cell_type": "code",
   "execution_count": null,
   "metadata": {},
   "outputs": [],
   "source": [
    "# default_exp naive_inverse_design"
   ]
  },
  {
   "cell_type": "markdown",
   "metadata": {},
   "source": [
    "# Naive Inverse Design\n",
    "> Let's leave the conditional generator out of it for now..."
   ]
  },
  {
   "cell_type": "code",
   "execution_count": null,
   "metadata": {},
   "outputs": [],
   "source": [
    "# hide\n",
    "import sys; sys.path.insert(0, '..') # make sure rust binary can be found..."
   ]
  },
  {
   "cell_type": "code",
   "execution_count": null,
   "metadata": {},
   "outputs": [],
   "source": [
    "# exporti\n",
    "import collections\n",
    "\n",
    "import autograd.numpy as npa\n",
    "import ceviche\n",
    "import numpy as np\n",
    "import matplotlib.pylab as plt\n",
    "from ceviche import fdfd_ez, jacobian\n",
    "from ceviche.modes import insert_mode\n",
    "from jax.example_libraries.optimizers import adam\n",
    "from tqdm.notebook import trange\n",
    "\n",
    "Slice = collections.namedtuple('Slice', 'x y')"
   ]
  },
  {
   "cell_type": "markdown",
   "metadata": {},
   "source": [
    "> This notebook was adapted from Ceviche's [inverse design introduction](https://github.com/fancompute/workshop-invdesign/blob/master/02_Invdes_intro.ipynb) to use a JAX-based optimization loop in stead of the default Ceviche optimization loop."
   ]
  },
  {
   "cell_type": "markdown",
   "metadata": {},
   "source": [
    "## Introduction: multi-mode waveguides\n",
    "The `ceviche` package has a built-in method `insert_mode()` that allows different modes to be inserted as sources.\n",
    "\n",
    "Below, we demonstrate how this functionality can be used to excite the first and second order modes of a straight waveguide:"
   ]
  },
  {
   "cell_type": "code",
   "execution_count": null,
   "metadata": {},
   "outputs": [],
   "source": [
    "# Define simulation parameters (see above)\n",
    "omega = 2 * np.pi * 200e12\n",
    "dl = 25e-9\n",
    "\n",
    "Nx = 200\n",
    "Ny = 120\n",
    "Npml = 20\n",
    "\n",
    "# Define permittivity for a straight waveguide\n",
    "epsr = np.ones((Nx, Ny))\n",
    "epsr[:, 50:67] = 12.0\n",
    "\n",
    "# Source position\n",
    "src_y = np.arange(20, 100)\n",
    "src_x = 30 * np.ones(src_y.shape, dtype=int)\n",
    "\n",
    "# Source for mode 1\n",
    "source1 = insert_mode(omega, dl, src_x, src_y, epsr, m=1)\n",
    "\n",
    "# Source for mode 2\n",
    "source2 = insert_mode(omega, dl, src_x, src_y, epsr, m=2)\n",
    "\n",
    "# Run the simulation exciting mode 1\n",
    "simulation = ceviche.fdfd_ez(omega, dl, epsr, [Npml, Npml])\n",
    "Hx, Hy, Ez = simulation.solve(source1)\n",
    "\n",
    "# Visualize the electric field\n",
    "ax = ceviche.viz.real(Ez, outline=epsr, cmap=\"RdBu_r\")\n",
    "ax.plot(src_x, src_y, \"k\")\n",
    "\n",
    "# Run the simulation exciting mode 2\n",
    "simulation = ceviche.fdfd_ez(omega, dl, epsr, [Npml, Npml])\n",
    "Hx, Hy, Ez = simulation.solve(source2)\n",
    "\n",
    "# Visualize the electric field\n",
    "ax = ceviche.viz.real(Ez, outline=epsr, cmap=\"RdBu_r\")\n",
    "ax.plot(src_x, src_y, \"k\")\n",
    "\n",
    "plt.show()"
   ]
  },
  {
   "cell_type": "markdown",
   "metadata": {},
   "source": [
    "## Simulation and optimization parameters\n",
    "\n",
    "Our toy optimization problem will be to design a device that converts an input in the first-order mode into an output as the second-order mode. First, we define the parameters of our device and optimization:"
   ]
  },
  {
   "cell_type": "code",
   "execution_count": null,
   "metadata": {},
   "outputs": [],
   "source": [
    "# exports\n",
    "\n",
    "# Angular frequency of the source in Hz\n",
    "omega = 2 * np.pi * 200e12\n",
    "# Spatial resolution in meters\n",
    "dl = 40e-9\n",
    "# Number of pixels in x-direction\n",
    "Nx = 100\n",
    "# Number of pixels in y-direction\n",
    "Ny = 100\n",
    "# Number of pixels in the PMLs in each direction\n",
    "Npml = 20\n",
    "# Initial value of the structure's relative permittivity\n",
    "epsr_init = 12.0\n",
    "# Space between the PMLs and the design region (in pixels)\n",
    "space = 10\n",
    "# Width of the waveguide (in pixels)\n",
    "wg_width = 12\n",
    "# Length in pixels of the source/probe slices on each side of the center point\n",
    "space_slice = 8\n",
    "# Number of epochs in the optimization\n",
    "Nsteps = 100\n",
    "# Step size for the Adam optimizer\n",
    "step_size = 1e-2"
   ]
  },
  {
   "cell_type": "markdown",
   "metadata": {},
   "source": [
    "### Utility functions\n",
    "We now define some utility functions for initialization and optimization:"
   ]
  },
  {
   "cell_type": "code",
   "execution_count": null,
   "metadata": {},
   "outputs": [],
   "source": [
    "# export\n",
    "def init_domain(\n",
    "    Nx=Nx, Ny=Ny, Npml=Npml, space=space, wg_width=wg_width, space_slice=space_slice\n",
    "):\n",
    "    \"\"\"Initializes the domain and design region\n",
    "\n",
    "    space       : The space between the PML and the structure\n",
    "    wg_width    : The feed and probe waveguide width\n",
    "    space_slice : The added space for the probe and source slices\n",
    "    \"\"\"\n",
    "\n",
    "    # Parametrization of the permittivity of the structure\n",
    "    bg_epsr = np.ones((Nx, Ny))\n",
    "    epsr = np.ones((Nx, Ny))\n",
    "\n",
    "    # Region within which the permittivity is allowed to change\n",
    "    design_region = np.zeros((Nx, Ny))\n",
    "\n",
    "    # Input waveguide\n",
    "    bg_epsr[0 : int(Npml + space), int(Ny / 2 - wg_width / 2) : int(Ny / 2 + wg_width / 2)] = epsr_init\n",
    "\n",
    "    # Input probe slice\n",
    "    input_slice = Slice(\n",
    "        x=np.array(Npml + 1),\n",
    "        y=np.arange(\n",
    "            int(Ny / 2 - wg_width / 2 - space_slice),\n",
    "            int(Ny / 2 + wg_width / 2 + space_slice),\n",
    "        ),\n",
    "    )\n",
    "\n",
    "    # Output waveguide\n",
    "    bg_epsr[\n",
    "        int(Nx - Npml - space) : :,\n",
    "        int(Ny / 2 - wg_width / 2) : int(Ny / 2 + wg_width / 2),\n",
    "    ] = epsr_init\n",
    "\n",
    "    # Output probe slice\n",
    "    output_slice = Slice(\n",
    "        x=np.array(Nx - Npml - 1),\n",
    "        y=np.arange(\n",
    "            int(Ny / 2 - wg_width / 2 - space_slice),\n",
    "            int(Ny / 2 + wg_width / 2 + space_slice),\n",
    "        ),\n",
    "    )\n",
    "\n",
    "    design_region[Npml + space: Nx - Npml - space, Npml + space: Ny - Npml - space] = 1.0\n",
    "    epsr[Npml + space : Nx - Npml - space, Npml + space : Ny - Npml - space] = epsr_init\n",
    "\n",
    "    return epsr, bg_epsr, design_region, input_slice, output_slice"
   ]
  },
  {
   "cell_type": "code",
   "execution_count": null,
   "metadata": {},
   "outputs": [],
   "source": [
    "# export\n",
    "def mask_combine_epsr(epsr, bg_epsr, design_region):\n",
    "    \"\"\"Utility function for combining the design region epsr and the background epsr\"\"\"\n",
    "    return epsr * design_region + bg_epsr * np.asarray(design_region == 0, dtype=float)"
   ]
  },
  {
   "cell_type": "code",
   "execution_count": null,
   "metadata": {},
   "outputs": [],
   "source": [
    "# export\n",
    "def viz_sim(epsr, source, slices=[]):\n",
    "    \"\"\"Solve and visualize a simulation with permittivity 'epsr'\"\"\"\n",
    "    simulation = fdfd_ez(omega, dl, epsr, [Npml, Npml])\n",
    "    _, _, Ez = simulation.solve(source)\n",
    "    _, ax = plt.subplots(1, 2, constrained_layout=True, figsize=(6, 3))\n",
    "    ceviche.viz.real(Ez, outline=epsr, ax=ax[0], cbar=False)\n",
    "    for sl in slices:\n",
    "        ax[0].plot(sl.x * np.ones(len(sl.y)), sl.y, \"b-\")\n",
    "    ceviche.viz.abs(epsr, ax=ax[1], cmap=\"Greys\")\n",
    "    plt.show()\n",
    "    return (simulation, ax)"
   ]
  },
  {
   "cell_type": "code",
   "execution_count": null,
   "metadata": {},
   "outputs": [],
   "source": [
    "# export\n",
    "def mode_overlap(E1, E2):\n",
    "    \"\"\"Defines an overlap integral between the simulated field and desired field\"\"\"\n",
    "    return npa.abs(npa.sum(npa.conj(E1) * E2))"
   ]
  },
  {
   "cell_type": "markdown",
   "metadata": {},
   "source": [
    "### Visualizing the starting device\n",
    "\n",
    "We can visualize what our starting device looks like and how it behaves. Our device is initialized by the `init_domain()` function which was defined several cells above."
   ]
  },
  {
   "cell_type": "code",
   "execution_count": null,
   "metadata": {},
   "outputs": [],
   "source": [
    "# exports\n",
    "\n",
    "# Initialize the parametrization rho and the design region\n",
    "epsr, bg_epsr, design_region, input_slice, output_slice = init_domain(\n",
    "    Nx, Ny, Npml, space=space, wg_width=wg_width, space_slice=space_slice\n",
    ")\n",
    "\n",
    "epsr_total = mask_combine_epsr(epsr, bg_epsr, design_region)\n",
    "\n",
    "# Setup source\n",
    "source = insert_mode(omega, dl, input_slice.x, input_slice.y, epsr_total, m=1)\n",
    "\n",
    "# Setup probe\n",
    "probe = insert_mode(omega, dl, output_slice.x, output_slice.y, epsr_total, m=2)"
   ]
  },
  {
   "cell_type": "code",
   "execution_count": null,
   "metadata": {},
   "outputs": [],
   "source": [
    "# Simulate initial device\n",
    "simulation, ax = viz_sim(epsr_total, source, slices=[input_slice, output_slice])\n",
    "\n",
    "# get normalization factor (field overlap before optimizing)\n",
    "_, _, Ez = simulation.solve(source)\n",
    "E0 = mode_overlap(Ez, probe)"
   ]
  },
  {
   "cell_type": "markdown",
   "metadata": {},
   "source": [
    "### Define objective function"
   ]
  },
  {
   "cell_type": "markdown",
   "metadata": {},
   "source": [
    "We will now define our objective function. This is a scalar-valued function which our optimizer uses to improve the device's performance.\n",
    "\n",
    "Our objective function will consist of maximizing an overlap integral of the field in the output waveguide of the simulated device and the field of the waveguide's second order mode (minimizing the negative overlap). The function takes in a single argument, `epsr` and returns the value of the overlap integral. The details of setting the permittivity and solving for the fields happens inside the objective function."
   ]
  },
  {
   "cell_type": "code",
   "execution_count": null,
   "metadata": {},
   "outputs": [],
   "source": [
    "# export\n",
    "def loss_fn(epsr):\n",
    "    \"\"\"Objective function called by optimizer\n",
    "    \n",
    "    1) Takes the epsr distribution as input\n",
    "    2) Runs the simulation\n",
    "    3) Returns the overlap integral between the output wg field \n",
    "       and the desired mode field\n",
    "    \"\"\"\n",
    "    epsr = epsr.reshape((Nx, Ny))\n",
    "    simulation.eps_r = mask_combine_epsr(epsr, bg_epsr, design_region)\n",
    "    _, _, Ez = simulation.solve(source)\n",
    "    return -mode_overlap(Ez, probe) / E0"
   ]
  },
  {
   "cell_type": "markdown",
   "metadata": {},
   "source": [
    "### Run optimization"
   ]
  },
  {
   "cell_type": "markdown",
   "metadata": {},
   "source": [
    "This is where our discussion deviates from the original discussion by the ceviche maintainers. In our case, we would like the optimization to fit in a JAX-based optimization scheme:"
   ]
  },
  {
   "cell_type": "code",
   "execution_count": null,
   "metadata": {},
   "outputs": [],
   "source": [
    "# Simulate initial device\n",
    "simulation, ax = viz_sim(epsr_total, source, slices=[input_slice, output_slice])"
   ]
  },
  {
   "cell_type": "code",
   "execution_count": null,
   "metadata": {},
   "outputs": [],
   "source": [
    "# exports\n",
    "grad_fn = jacobian(loss_fn, mode='reverse')"
   ]
  },
  {
   "cell_type": "code",
   "execution_count": null,
   "metadata": {},
   "outputs": [],
   "source": [
    "init_fn, update_fn, params_fn = adam(step_size)\n",
    "state = init_fn(epsr.reshape(1, -1))"
   ]
  },
  {
   "cell_type": "markdown",
   "metadata": {},
   "source": [
    "this is the optimization step:"
   ]
  },
  {
   "cell_type": "code",
   "execution_count": null,
   "metadata": {},
   "outputs": [],
   "source": [
    "# export\n",
    "def step_fn(step, state):\n",
    "    latent = np.asarray(params_fn(state), dtype=float) # we need autograd arrays here...\n",
    "    loss = loss_fn(latent)\n",
    "    grads = grad_fn(latent)\n",
    "    optim_state = update_fn(step, grads, state)\n",
    "    return loss, optim_state"
   ]
  },
  {
   "cell_type": "markdown",
   "metadata": {},
   "source": [
    "we can now loop over the optimization:"
   ]
  },
  {
   "cell_type": "code",
   "execution_count": null,
   "metadata": {},
   "outputs": [],
   "source": [
    "range_ = trange(100)\n",
    "for step in range_:\n",
    "    loss, state = step_fn(step, state)\n",
    "    range_.set_postfix(loss=float(loss))"
   ]
  },
  {
   "cell_type": "code",
   "execution_count": null,
   "metadata": {},
   "outputs": [],
   "source": [
    "epsr_optimum = params_fn(state)\n",
    "epsr_optimum = epsr_optimum.reshape((Nx, Ny))"
   ]
  },
  {
   "cell_type": "code",
   "execution_count": null,
   "metadata": {},
   "outputs": [],
   "source": [
    "# Simulate and show the optimal device\n",
    "epsr_optimum_total = mask_combine_epsr(epsr_optimum, bg_epsr, design_region)\n",
    "simulation, ax = viz_sim(epsr_optimum_total, source, slices=[input_slice, output_slice])"
   ]
  },
  {
   "cell_type": "markdown",
   "metadata": {},
   "source": [
    "At the end of the optimization we can see our final device. From the field pattern, we can easily observe that the device is doing what we intend: the *even* mode enters from the left and exits as the *odd* mode on the right.\n",
    "\n",
    "However, an additional observation is that our device's permittivity changes continuously. This is not ideal if we wanted to fabricated our device. We're also not constraining the minimum and maximum values of $\\epsilon_r$. Thus, we need to consider alternative ways of parameterizing our device."
   ]
  },
  {
   "cell_type": "code",
   "execution_count": null,
   "metadata": {},
   "outputs": [],
   "source": [
    "plt.imshow(np.sqrt(epsr_optimum_total.T), cmap=\"plasma\", vmin=1, vmax=4)\n",
    "plt.ylim(*plt.ylim()[::-1])\n",
    "plt.colorbar(ticks=[1,2,3,4], label=\"n\")\n",
    "plt.xlabel(\"x\")\n",
    "plt.xlabel(\"y\")\n",
    "plt.grid(True)"
   ]
  }
 ],
 "metadata": {
  "kernelspec": {
   "display_name": "x",
   "language": "python",
   "name": "x"
  }
 },
 "nbformat": 4,
 "nbformat_minor": 4
}
