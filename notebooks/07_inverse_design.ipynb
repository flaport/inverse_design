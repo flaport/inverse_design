{
 "cells": [
  {
   "cell_type": "raw",
   "id": "0cf621be",
   "metadata": {},
   "source": [
    "---\n",
    "description: A smarter way to do inverse design, using the conditional generator.\n",
    "output-file: inverse_design.html\n",
    "skip_exec: true\n",
    "title: Inverse Design\n",
    "\n",
    "---"
   ]
  },
  {
   "cell_type": "code",
   "execution_count": null,
   "id": "a5146472",
   "metadata": {},
   "outputs": [],
   "source": [
    "#| default_exp inverse_design"
   ]
  },
  {
   "cell_type": "code",
   "execution_count": null,
   "id": "e885cf96",
   "metadata": {},
   "outputs": [],
   "source": [
    "#| export\n",
    "import autograd.numpy as npa\n",
    "import matplotlib.pylab as plt\n",
    "import numpy as np\n",
    "from ceviche import jacobian\n",
    "from ceviche.modes import insert_mode\n",
    "from inverse_design.brushes import notched_square_brush, show_mask\n",
    "from inverse_design.conditional_generator import (\n",
    "    generate_feasible_design,\n",
    "    generate_feasible_design_mask,\n",
    "    new_latent_design,\n",
    "    transform,\n",
    ")\n",
    "from inverse_design.direct_optimization import huber_loss\n",
    "from inverse_design.naive_inverse_design import (\n",
    "    init_domain,\n",
    "    mask_combine_epsr,\n",
    "    mode_overlap,\n",
    "    viz_sim,\n",
    ")\n",
    "from jax.example_libraries.optimizers import adam\n",
    "from tqdm.notebook import trange"
   ]
  },
  {
   "cell_type": "markdown",
   "id": "cbe66076",
   "metadata": {},
   "source": [
    "> This notebook was adapted from Ceviche's [inverse design introduction](https://github.com/fancompute/workshop-invdesign/blob/master/02_Invdes_intro.ipynb) to use a JAX-based optimization loop in stead of the default Ceviche optimization loop."
   ]
  },
  {
   "cell_type": "markdown",
   "id": "e4cfbabd",
   "metadata": {},
   "source": [
    "## Parameters\n",
    "\n",
    "Our toy optimization problem will be to design a device that converts an input in the first-order mode into an output as the second-order mode. First, we define the parameters of our device and optimization:"
   ]
  },
  {
   "cell_type": "code",
   "execution_count": null,
   "id": "e67949e2",
   "metadata": {},
   "outputs": [],
   "source": [
    "#| exports\n",
    "\n",
    "# Angular frequency of the source in Hz\n",
    "omega = 2 * np.pi * 200e12\n",
    "# Spatial resolution in meters\n",
    "dl = 40e-9\n",
    "# Number of pixels in x-direction\n",
    "Nx = 100\n",
    "# Number of pixels in y-direction\n",
    "Ny = 100\n",
    "# Number of pixels in the PMLs in each direction\n",
    "Npml = 20\n",
    "# Initial value of the structure's relative permittivity\n",
    "epsr_init = 12.0\n",
    "# Space between the PMLs and the design region (in pixels)\n",
    "space = 10\n",
    "# Width of the waveguide (in pixels)\n",
    "wg_width = 12\n",
    "# Length in pixels of the source/probe slices on each side of the center point\n",
    "space_slice = 8\n",
    "# Number of epochs in the optimization\n",
    "Nsteps = 100\n",
    "# Step size for the Adam optimizer\n",
    "step_size = 1e-2"
   ]
  },
  {
   "cell_type": "markdown",
   "id": "998db1f4",
   "metadata": {},
   "source": [
    "## Brush"
   ]
  },
  {
   "cell_type": "code",
   "execution_count": null,
   "id": "e04d4903",
   "metadata": {},
   "outputs": [],
   "source": [
    "brush = notched_square_brush(5, 1)\n",
    "show_mask(brush)"
   ]
  },
  {
   "cell_type": "markdown",
   "id": "655cac4c",
   "metadata": {},
   "source": [
    "## Initial Device"
   ]
  },
  {
   "cell_type": "code",
   "execution_count": null,
   "id": "6fa34db6",
   "metadata": {},
   "outputs": [],
   "source": [
    "#| exports\n",
    "\n",
    "# Initialize the parametrization rho and the design region\n",
    "epsr, bg_epsr, design_region, input_slice, output_slice = init_domain(\n",
    "    Nx, Ny, Npml, space=space, wg_width=wg_width, space_slice=space_slice\n",
    ")\n",
    "\n",
    "epsr_total = mask_combine_epsr(epsr, bg_epsr, design_region)\n",
    "\n",
    "# Setup source\n",
    "source = insert_mode(omega, dl, input_slice.x, input_slice.y, epsr_total, m=1)\n",
    "\n",
    "# Setup probe\n",
    "probe = insert_mode(omega, dl, output_slice.x, output_slice.y, epsr_total, m=2)"
   ]
  },
  {
   "cell_type": "code",
   "execution_count": null,
   "id": "742add69",
   "metadata": {},
   "outputs": [],
   "source": [
    "# Simulate initial device\n",
    "simulation, ax = viz_sim(epsr_total, source, slices=[input_slice, output_slice])\n",
    "\n",
    "# get normalization factor (field overlap before optimizing)\n",
    "_, _, Ez = simulation.solve(source)\n",
    "E0 = mode_overlap(Ez, probe)"
   ]
  },
  {
   "cell_type": "code",
   "execution_count": null,
   "id": "d41b171d",
   "metadata": {},
   "outputs": [],
   "source": [
    "#| export\n",
    "def get_design_region(epsr, design_region=design_region):\n",
    "    I = np.where(design_region.sum(0) > 1e-5)[0]\n",
    "    J = np.where(design_region.sum(1) > 1e-5)[0]\n",
    "    return epsr[I,:][:,J]"
   ]
  },
  {
   "cell_type": "code",
   "execution_count": null,
   "id": "7435ed35",
   "metadata": {},
   "outputs": [],
   "source": [
    "#| export\n",
    "def set_design_region(epsr, value, design_region=design_region):\n",
    "    return np.where(design_region > 1e-5, value, epsr)"
   ]
  },
  {
   "cell_type": "markdown",
   "id": "8eeecde5",
   "metadata": {},
   "source": [
    "## Latent Weights"
   ]
  },
  {
   "cell_type": "code",
   "execution_count": null,
   "id": "65823525",
   "metadata": {},
   "outputs": [],
   "source": [
    "#latent = get_design_region(new_latent_design((Nx, Ny), r=0))\n",
    "latent = new_latent_design((Nx, Ny), r=0)\n",
    "latent_t = transform(latent, brush)\n",
    "plt.imshow(get_design_region(latent_t), cmap=\"Greys\", vmin=-1, vmax=1)\n",
    "plt.colorbar()\n",
    "plt.show()"
   ]
  },
  {
   "cell_type": "markdown",
   "id": "dad579eb",
   "metadata": {},
   "source": [
    "## Forward Pass"
   ]
  },
  {
   "cell_type": "code",
   "execution_count": null,
   "id": "203f0305",
   "metadata": {},
   "outputs": [],
   "source": [
    "design = generate_feasible_design(latent_t, brush, verbose=False)"
   ]
  },
  {
   "cell_type": "code",
   "execution_count": null,
   "id": "de1b7bd8",
   "metadata": {},
   "outputs": [],
   "source": []
  },
  {
   "cell_type": "code",
   "execution_count": null,
   "id": "d5896b9f",
   "metadata": {},
   "outputs": [],
   "source": [
    "mask = generate_feasible_design_mask(latent_t, brush)"
   ]
  },
  {
   "cell_type": "code",
   "execution_count": null,
   "id": "9243c983",
   "metadata": {},
   "outputs": [],
   "source": [
    "%time mask = generate_feasible_design_mask(latent_t, brush, )\n",
    "full_mask = np.zeros_like(epsr, dtype=bool)\n",
    "#full_mask = set_design_region(full_mask, mask)\n",
    "\n",
    "plt.imshow(mask, cmap=\"Greys\")\n",
    "plt.colorbar()\n",
    "plt.show()\n",
    "\n",
    "plt.imshow(full_mask, cmap=\"Greys\")\n",
    "plt.colorbar()\n",
    "plt.show()"
   ]
  },
  {
   "cell_type": "code",
   "execution_count": null,
   "id": "2739f24f",
   "metadata": {},
   "outputs": [],
   "source": [
    "#| exports\n",
    "def forward(latent_weights, brush):\n",
    "    latent_t = transform(latent_weights, brush)\n",
    "    design_mask = generate_feasible_design_mask(latent_t, brush)\n",
    "    epsr = np.where(design_mask, 12.0, 1.0)"
   ]
  },
  {
   "cell_type": "code",
   "execution_count": null,
   "id": "bd0c1768",
   "metadata": {},
   "outputs": [],
   "source": [
    "#| exports\n",
    "def loss_fn(epsr):\n",
    "    epsr = epsr.reshape((Nx, Ny))\n",
    "    simulation.eps_r = mask_combine_epsr(epsr, bg_epsr, design_region)\n",
    "    _, _, Ez = simulation.solve(source)\n",
    "    return -mode_overlap(Ez, probe) / E0"
   ]
  },
  {
   "cell_type": "code",
   "execution_count": null,
   "id": "07c6b28a",
   "metadata": {},
   "outputs": [],
   "source": [
    "#| exports\n",
    "grad_fn = jacobian(loss_fn, mode='reverse')"
   ]
  },
  {
   "cell_type": "markdown",
   "id": "6e4c7de0",
   "metadata": {},
   "source": [
    "### Optimization"
   ]
  },
  {
   "cell_type": "code",
   "execution_count": null,
   "id": "c4497852",
   "metadata": {},
   "outputs": [],
   "source": [
    "# Simulate initial device\n",
    "simulation, ax = viz_sim(epsr_total, source, slices=[input_slice, output_slice])"
   ]
  },
  {
   "cell_type": "code",
   "execution_count": null,
   "id": "82366ce7",
   "metadata": {},
   "outputs": [],
   "source": [
    "init_fn, update_fn, params_fn = adam(step_size)\n",
    "state = init_fn(epsr.reshape(1, -1))"
   ]
  },
  {
   "cell_type": "markdown",
   "id": "b1ae20c9",
   "metadata": {},
   "source": [
    "this is the optimization step:"
   ]
  },
  {
   "cell_type": "code",
   "execution_count": null,
   "id": "3e0c13c4",
   "metadata": {},
   "outputs": [],
   "source": [
    "#| export\n",
    "def step_fn(step, state):\n",
    "    latent = np.asarray(params_fn(state), dtype=float) # we need autograd arrays here...\n",
    "    loss = loss_fn(latent)\n",
    "    grads = grad_fn(latent)\n",
    "    optim_state = update_fn(step, grads, state)\n",
    "    return loss, optim_state"
   ]
  },
  {
   "cell_type": "markdown",
   "id": "668c35b0",
   "metadata": {},
   "source": [
    "we can now loop over the optimization:"
   ]
  },
  {
   "cell_type": "code",
   "execution_count": null,
   "id": "95a15893",
   "metadata": {},
   "outputs": [],
   "source": [
    "range_ = trange(500)\n",
    "for step in range_:\n",
    "    loss, state = step_fn(step, state)\n",
    "    range_.set_postfix(loss=float(loss))"
   ]
  },
  {
   "cell_type": "code",
   "execution_count": null,
   "id": "ee4cbbb4",
   "metadata": {},
   "outputs": [],
   "source": [
    "epsr_optimum = params_fn(state)\n",
    "epsr_optimum = epsr_optimum.reshape((Nx, Ny))"
   ]
  },
  {
   "cell_type": "code",
   "execution_count": null,
   "id": "282f5d88",
   "metadata": {},
   "outputs": [],
   "source": [
    "# Simulate and show the optimal device\n",
    "epsr_optimum_total = mask_combine_epsr(epsr_optimum, bg_epsr, design_region)\n",
    "simulation, ax = viz_sim(epsr_optimum_total, source, slices=[input_slice, output_slice])"
   ]
  },
  {
   "cell_type": "markdown",
   "id": "4e71c9be",
   "metadata": {},
   "source": [
    "At the end of the optimization we can see our final device. From the field pattern, we can easily observe that the device is doing what we intend: the *even* mode enters from the left and exits as the *odd* mode on the right.\n",
    "\n",
    "However, an additional observation is that our device's permittivity changes continuously. This is not ideal if we wanted to fabricated our device. We're also not constraining the minimum and maximum values of $\\epsilon_r$. Thus, we need to consider alternative ways of parameterizing our device."
   ]
  },
  {
   "cell_type": "code",
   "execution_count": null,
   "id": "2e4779a1",
   "metadata": {},
   "outputs": [],
   "source": [
    "plt.imshow(np.sqrt(epsr_optimum_total.T), cmap=\"plasma\", vmin=1, vmax=4)\n",
    "plt.ylim(*plt.ylim()[::-1])\n",
    "plt.colorbar(ticks=[1,2,3,4], label=\"n\")\n",
    "plt.xlabel(\"x\")\n",
    "plt.xlabel(\"y\")\n",
    "plt.grid(True)"
   ]
  }
 ],
 "metadata": {
  "kernelspec": {
   "display_name": "Python 3 (ipykernel)",
   "language": "python",
   "name": "python3"
  }
 },
 "nbformat": 4,
 "nbformat_minor": 5
}
