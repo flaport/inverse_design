{
 "cells": [
  {
   "cell_type": "code",
   "execution_count": null,
   "id": "5e328a8d-c221-4374-98d3-9f41119065c5",
   "metadata": {},
   "outputs": [],
   "source": [
    "# default_exp design"
   ]
  },
  {
   "cell_type": "markdown",
   "id": "603a2587-7c41-4fb8-9cd9-08a0c163b214",
   "metadata": {},
   "source": [
    "# Design\n",
    "> All design-related functions"
   ]
  },
  {
   "cell_type": "code",
   "execution_count": null,
   "id": "2a7b5556-6543-4f11-bd39-be3de3233d13",
   "metadata": {},
   "outputs": [],
   "source": [
    "# hide\n",
    "import sys; sys.path.insert(0, '..') # make sure rust binary can be found..."
   ]
  },
  {
   "cell_type": "code",
   "execution_count": null,
   "id": "90cced79-de37-42bb-a64f-5f1c73fafbc1",
   "metadata": {},
   "outputs": [],
   "source": [
    "# exporti\n",
    "from typing import NamedTuple\n",
    "\n",
    "import jax\n",
    "import jax.numpy as jnp\n",
    "import matplotlib.pyplot as plt\n",
    "from fastcore.basics import patch_to\n",
    "from inverse_design.brushes import notched_square_brush, show_mask\n",
    "from inverse_design.utils import batch_conv2d, dilute\n",
    "from matplotlib.colors import ListedColormap"
   ]
  },
  {
   "cell_type": "code",
   "execution_count": null,
   "id": "24294614-840d-479e-bb99-68c1b55ef9a9",
   "metadata": {},
   "outputs": [],
   "source": [
    "# exports\n",
    "UNASSIGNED = 0\n",
    "VOID = 1\n",
    "SOLID = 2\n",
    "PIXEL_IMPOSSIBLE = 3\n",
    "PIXEL_EXISTING = 4\n",
    "PIXEL_POSSIBLE = 5\n",
    "PIXEL_REQUIRED = 6\n",
    "TOUCH_REQUIRED = 7\n",
    "TOUCH_INVALID = 8\n",
    "TOUCH_EXISTING = 9\n",
    "TOUCH_VALID = 10\n",
    "TOUCH_FREE = 11\n",
    "TOUCH_RESOLVING = 12"
   ]
  },
  {
   "cell_type": "code",
   "execution_count": null,
   "id": "bd6136b1-426f-4046-9439-225e1ecebca8",
   "metadata": {},
   "outputs": [],
   "source": [
    "# export\n",
    "class Design(NamedTuple):\n",
    "    void_pixels: jnp.ndarray\n",
    "    solid_pixels: jnp.ndarray\n",
    "    void_touches: jnp.ndarray\n",
    "    solid_touches: jnp.ndarray\n",
    "\n",
    "    @property\n",
    "    def shape(self):\n",
    "        return self.void_pixels.shape\n",
    "\n",
    "    @property\n",
    "    def design(self):\n",
    "        design = UNASSIGNED * jnp.ones(self.shape, dtype=jnp.uint8)\n",
    "        design = jnp.where(self.void_pixels == PIXEL_EXISTING, VOID, design)\n",
    "        design = jnp.where(self.solid_pixels == PIXEL_EXISTING, SOLID, design)\n",
    "        return design\n",
    "\n",
    "    def copy(self, **kwargs):\n",
    "        kwargs = {name: kwargs.get(name, getattr(self, name)) for name in self._fields}\n",
    "        return Design(*kwargs.values())"
   ]
  },
  {
   "cell_type": "code",
   "execution_count": null,
   "id": "af2ff0e9-3cfd-415a-a8ee-9141c74203dc",
   "metadata": {},
   "outputs": [],
   "source": [
    "# export\n",
    "def new_design(shape):\n",
    "    return Design(\n",
    "        void_pixels=jnp.zeros(shape, dtype=jnp.uint8).at[:,:].set(PIXEL_POSSIBLE),\n",
    "        solid_pixels=jnp.zeros(shape, dtype=jnp.uint8).at[:,:].set(PIXEL_POSSIBLE),\n",
    "        void_touches=jnp.zeros(shape, dtype=jnp.uint8).at[:,:].set(TOUCH_VALID),\n",
    "        solid_touches=jnp.zeros(shape, dtype=jnp.uint8).at[:,:].set(TOUCH_VALID),\n",
    "    )"
   ]
  },
  {
   "cell_type": "code",
   "execution_count": null,
   "id": "8ac1fd2f-96e0-4f70-b05b-32b3dc088e9e",
   "metadata": {},
   "outputs": [],
   "source": [
    "# export\n",
    "def design_mask(design, dtype=float):\n",
    "    one = jnp.ones_like(design.design, dtype=dtype)\n",
    "    mask = jnp.where(design.design == VOID, -1, one)\n",
    "    return mask"
   ]
  },
  {
   "cell_type": "code",
   "execution_count": null,
   "id": "00bf6ae4-ebd8-4e81-98a3-d26edc42e967",
   "metadata": {},
   "outputs": [],
   "source": [
    "# export\n",
    "def visualize(design):\n",
    "    _cmap = ListedColormap(colors={UNASSIGNED: \"#929292\", VOID: \"#cbcbcb\", SOLID: \"#515151\", PIXEL_IMPOSSIBLE: \"#8dd3c7\", PIXEL_EXISTING: \"#ffffb3\", PIXEL_POSSIBLE: \"#bebada\", PIXEL_REQUIRED: \"#fb7f72\", TOUCH_REQUIRED: \"#00ff00\", TOUCH_INVALID: \"#7fb1d3\", TOUCH_EXISTING: \"#fdb462\", TOUCH_VALID: \"#b3de69\", TOUCH_FREE: \"#fccde5\", TOUCH_RESOLVING: \"#e0e0e0\"}.values(), name=\"cmap\")\n",
    "    nx, ny = design.design.shape\n",
    "    _, axs = plt.subplots(1, 5, figsize=(15,3*nx/ny))\n",
    "    for i, name in enumerate([\"design\", *design._fields]):\n",
    "        ax = axs[i]\n",
    "        ax.set_title(name.replace(\"_\", \" \"))\n",
    "        ax.imshow(getattr(design, name), cmap=_cmap, vmin=UNASSIGNED, vmax=TOUCH_RESOLVING)\n",
    "        ax.set_yticks(jnp.arange(nx)+0.5)\n",
    "        ax.set_yticklabels([\"\" for i in range(nx)])\n",
    "        ax.set_xticks(jnp.arange(ny)+0.5)\n",
    "        ax.set_xticklabels([\"\" for i in range(ny)])\n",
    "        ax.set_yticks(jnp.arange(nx), minor=True)\n",
    "        ax.set_yticklabels([f\"{i}\" for i in range(nx)], minor=True)\n",
    "        ax.set_xticks(jnp.arange(ny), minor=True)\n",
    "        ax.set_xticklabels([f\"{i}\" for i in range(ny)], minor=True)\n",
    "        ax.set_xlim(-0.5, ny-0.5)\n",
    "        ax.set_ylim(nx-0.5, -0.5)\n",
    "        ax.grid(visible=True, which=\"major\", c=\"k\")\n",
    "\n",
    "@patch_to(Design)\n",
    "def _repr_html_(self):\n",
    "    visualize(self)\n",
    "    return \"\""
   ]
  },
  {
   "cell_type": "code",
   "execution_count": null,
   "id": "69102c6b-1525-409a-a3a3-f0ae58e3b55a",
   "metadata": {},
   "outputs": [],
   "source": [
    "my_brush = notched_square_brush(5, 1)\n",
    "show_mask(my_brush)"
   ]
  },
  {
   "cell_type": "code",
   "execution_count": null,
   "id": "42c24e07-d534-40ac-ab43-03fa90a25f1f",
   "metadata": {},
   "outputs": [],
   "source": [
    "step1 = lambda: new_design((6, 8))\n",
    "step1()"
   ]
  },
  {
   "cell_type": "code",
   "execution_count": null,
   "id": "2c6b6af7-d745-4213-bc97-cfbf2a72d336",
   "metadata": {},
   "outputs": [],
   "source": [
    "# exporti\n",
    "@jax.jit\n",
    "def _find_free_touches(touches_mask, pixels_mask, brush):\n",
    "    r = jnp.zeros_like(touches_mask, dtype=bool)\n",
    "    m, n = r.shape\n",
    "    i, j = jnp.arange(m), jnp.arange(n)\n",
    "    I, J = [idxs.ravel() for idxs in jnp.meshgrid(i, j)]\n",
    "    K = jnp.arange(m * n)\n",
    "    R = jnp.broadcast_to(r[None, :, :], (m * n, m, n)).at[K, I, J].set(True)\n",
    "    Rb = batch_conv2d(R, brush[None]) | pixels_mask\n",
    "    free_idxs = (Rb == pixels_mask).all((1, 2))\n",
    "    free_touches_mask = jnp.where(free_idxs[:, None, None], R, 0).sum(0, dtype=bool)\n",
    "    return free_touches_mask ^ touches_mask\n",
    "\n",
    "\n",
    "@jax.jit\n",
    "def _find_free_touches_alternative(touches_mask, pixels_mask, brush):\n",
    "    brush_u32 = jnp.asarray(brush, dtype=jnp.uint32)\n",
    "    sum_mask = dilute(jnp.asarray(pixels_mask, dtype=jnp.uint32), brush_u32)\n",
    "    ref_mask = dilute(jnp.ones_like(sum_mask), brush_u32)\n",
    "    free_mask = sum_mask == ref_mask\n",
    "    free_mask = free_mask & (~touches_mask)\n",
    "    return free_mask"
   ]
  },
  {
   "cell_type": "code",
   "execution_count": null,
   "id": "12c4a0a6-0802-4ac8-bfbe-ee9cc3bcae6f",
   "metadata": {},
   "outputs": [],
   "source": [
    "# exporti\n",
    "@jax.jit\n",
    "def _find_required_pixels(pixel_map, brush):\n",
    "    mask = (~pixel_map) & (~dilute(pixel_map, brush))\n",
    "    return ~(dilute(mask, brush) | pixel_map)"
   ]
  },
  {
   "cell_type": "code",
   "execution_count": null,
   "id": "bd71e8a7-8ca5-472f-a360-99259268bf6f",
   "metadata": {},
   "outputs": [],
   "source": [
    "# export\n",
    "@jax.jit\n",
    "def add_void_touch(design, brush, pos):\n",
    "    if isinstance(pos, tuple):\n",
    "        void_touch_existing = design.void_touches.at[pos[0], pos[1]].set(TOUCH_EXISTING) == TOUCH_EXISTING\n",
    "    else:\n",
    "        assert pos.dtype == bool\n",
    "        void_touch_existing = pos | (design.void_touches == TOUCH_EXISTING)\n",
    "    void_pixel_existing = dilute(void_touch_existing, brush) | (design.void_pixels == PIXEL_EXISTING)\n",
    "    void_pixel_required = _find_required_pixels(void_pixel_existing, brush)\n",
    "    solid_touch_invalid = dilute(void_pixel_existing, brush)\n",
    "    void_touch_free = _find_free_touches(void_touch_existing, void_pixel_existing | void_pixel_required, brush)\n",
    "    void_touches = jnp.where(design.void_touches == TOUCH_RESOLVING, TOUCH_VALID, design.void_touches)\n",
    "    void_touches = jnp.where(void_touch_existing, TOUCH_EXISTING, void_touches)\n",
    "    void_touches = jnp.where(void_touch_free, TOUCH_FREE, void_touches)\n",
    "    void_touch_resolving = jnp.where(void_touches == TOUCH_VALID, dilute(void_pixel_required, brush), False)\n",
    "    void_touches = jnp.where(void_touch_resolving, TOUCH_RESOLVING, void_touches)\n",
    "    void_pixels = jnp.where(void_pixel_existing, PIXEL_EXISTING, design.void_pixels)\n",
    "    void_pixels = jnp.where(void_pixel_required, PIXEL_REQUIRED, void_pixels)\n",
    "    solid_pixels =  jnp.where(void_pixel_existing, PIXEL_IMPOSSIBLE, design.solid_pixels)\n",
    "    solid_pixels = jnp.where(void_pixel_required, PIXEL_IMPOSSIBLE, solid_pixels)\n",
    "    solid_touches = jnp.where(solid_touch_invalid, TOUCH_INVALID, design.solid_touches)\n",
    "    return Design(void_pixels, solid_pixels, void_touches, solid_touches)"
   ]
  },
  {
   "cell_type": "code",
   "execution_count": null,
   "id": "5bf47604-cdc2-4f54-a6f7-1e50e773a29d",
   "metadata": {},
   "outputs": [],
   "source": [
    "step2 = lambda: add_void_touch(step1(), my_brush, (0, 6))\n",
    "step2()"
   ]
  },
  {
   "cell_type": "code",
   "execution_count": null,
   "id": "1775b4e3-564f-4069-a354-bec84118c204",
   "metadata": {},
   "outputs": [],
   "source": [
    "# export\n",
    "@jax.jit\n",
    "def take_free_void_touches(design, brush):\n",
    "    free_touches_mask = design.void_touches == TOUCH_FREE\n",
    "    return add_void_touch(design, brush, free_touches_mask)"
   ]
  },
  {
   "cell_type": "code",
   "execution_count": null,
   "id": "49aab0d5-ff55-4a40-b955-df9bebdd67b1",
   "metadata": {},
   "outputs": [],
   "source": [
    "step3 = lambda: take_free_void_touches(step2(), my_brush)\n",
    "step3()"
   ]
  },
  {
   "cell_type": "code",
   "execution_count": null,
   "id": "0e9c4cca-c54a-4034-b291-8eef1e69a409",
   "metadata": {},
   "outputs": [],
   "source": [
    "# export\n",
    "def invert_design(design):\n",
    "    return Design(design.solid_pixels, design.void_pixels, design.solid_touches, design.void_touches)"
   ]
  },
  {
   "cell_type": "code",
   "execution_count": null,
   "id": "7803f8fc-011a-413d-8f4a-d46df2ff156c",
   "metadata": {},
   "outputs": [],
   "source": [
    "invert_design(step3())"
   ]
  },
  {
   "cell_type": "code",
   "execution_count": null,
   "id": "cf9011c2-e97d-4e9e-92cb-6192b71d83ab",
   "metadata": {},
   "outputs": [],
   "source": [
    "# export\n",
    "@jax.jit\n",
    "def add_solid_touch(design, brush, pos):\n",
    "    inverted_design = invert_design(design)\n",
    "    inverted_design = add_void_touch(inverted_design, brush, pos)\n",
    "    design = invert_design(inverted_design)\n",
    "    return design"
   ]
  },
  {
   "cell_type": "code",
   "execution_count": null,
   "id": "9360657b-85fc-40f9-b089-ff19bb476cbe",
   "metadata": {},
   "outputs": [],
   "source": [
    "# export\n",
    "@jax.jit\n",
    "def take_free_solid_touches(design, brush):\n",
    "    free_touches_mask = design.solid_touches == TOUCH_FREE\n",
    "    return add_solid_touch(design, brush, free_touches_mask)"
   ]
  },
  {
   "cell_type": "code",
   "execution_count": null,
   "id": "2632b370-cea2-47e0-83fa-5dc436795ddd",
   "metadata": {},
   "outputs": [],
   "source": [
    "step4 = lambda: add_solid_touch(step3(), my_brush, (0, 0))\n",
    "step4()"
   ]
  },
  {
   "cell_type": "code",
   "execution_count": null,
   "id": "d1616867-a02b-4858-b926-75fb74cefe56",
   "metadata": {},
   "outputs": [],
   "source": [
    "step5 = lambda: add_void_touch(step4(), my_brush, (4, 6))\n",
    "step5()"
   ]
  },
  {
   "cell_type": "code",
   "execution_count": null,
   "id": "f250aa56-64d2-41f9-878f-51c221dc7a63",
   "metadata": {},
   "outputs": [],
   "source": [
    "step6 = lambda: take_free_void_touches(step5(), my_brush)\n",
    "step6()"
   ]
  },
  {
   "cell_type": "code",
   "execution_count": null,
   "id": "1c5b1e1d-aa24-424f-9608-d7d504c456a5",
   "metadata": {},
   "outputs": [],
   "source": [
    "step7 = lambda: add_void_touch(step6(), my_brush, (4, 4))\n",
    "step7()"
   ]
  },
  {
   "cell_type": "code",
   "execution_count": null,
   "id": "28ffd428-3362-481c-94a1-dde9ba46ec39",
   "metadata": {},
   "outputs": [],
   "source": [
    "step8 = lambda: take_free_void_touches(step7(), my_brush)\n",
    "step8()"
   ]
  },
  {
   "cell_type": "code",
   "execution_count": null,
   "id": "4cdf6235-d4c3-43e1-ae2d-5c17b7e1a90d",
   "metadata": {},
   "outputs": [],
   "source": [
    "step9 = lambda: add_void_touch(step8(), my_brush, (5, 0))\n",
    "step9()"
   ]
  },
  {
   "cell_type": "code",
   "execution_count": null,
   "id": "78f17261-00de-418a-baf3-3833c00db786",
   "metadata": {},
   "outputs": [],
   "source": [
    "step10 = lambda: take_free_void_touches(step9(), my_brush)\n",
    "step10()"
   ]
  },
  {
   "cell_type": "code",
   "execution_count": null,
   "id": "1c02245f-7ee8-41ba-8a28-ae06e2d65cc3",
   "metadata": {},
   "outputs": [],
   "source": [
    "step11 = lambda: add_void_touch(step10(), my_brush, (2, 5))\n",
    "step11()"
   ]
  },
  {
   "cell_type": "code",
   "execution_count": null,
   "id": "e65962c8-21d8-447c-a8f9-ac4fc93cec49",
   "metadata": {},
   "outputs": [],
   "source": [
    "step12 = lambda: take_free_void_touches(step11(), my_brush)\n",
    "step12()"
   ]
  }
 ],
 "metadata": {
  "kernelspec": {
   "display_name": "x",
   "language": "python",
   "name": "x"
  }
 },
 "nbformat": 4,
 "nbformat_minor": 5
}
