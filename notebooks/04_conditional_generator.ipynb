{
 "cells": [
  {
   "cell_type": "code",
   "execution_count": null,
   "id": "65b4e84c-3228-428e-99bf-894bd4d26592",
   "metadata": {},
   "outputs": [],
   "source": [
    "# default_exp conditional_generator"
   ]
  },
  {
   "cell_type": "markdown",
   "id": "dab7f526-207e-4d5a-ac00-ae1ca2ebc781",
   "metadata": {},
   "source": [
    "# Conditional Generator\n",
    "> Generate a feasible design from an array of latent weights"
   ]
  },
  {
   "cell_type": "code",
   "execution_count": null,
   "id": "01060fe3-20bf-468d-a970-4722feed2cc0",
   "metadata": {},
   "outputs": [],
   "source": [
    "# export\n",
    "import jax\n",
    "import jax.numpy as jnp\n",
    "import numpy as np\n",
    "from inverse_design.design import (\n",
    "    TOUCH_FREE,\n",
    "    TOUCH_RESOLVING,\n",
    "    TOUCH_VALID,\n",
    "    UNASSIGNED,\n",
    "    add_solid_touch,\n",
    "    add_void_touch,\n",
    "    design_mask,\n",
    "    new_design,\n",
    "    take_free_solid_touches,\n",
    "    take_free_void_touches,\n",
    "    visualize\n",
    ")\n",
    "from inverse_design.utils import argmax2d, argmin2d, conv2d, randn"
   ]
  },
  {
   "cell_type": "code",
   "execution_count": null,
   "id": "96bf4a73-a2db-4d54-8674-4da62485c085",
   "metadata": {},
   "outputs": [],
   "source": [
    "# hide\n",
    "import matplotlib.pyplot as plt\n",
    "from inverse_design.brushes import circular_brush, notched_square_brush, show_mask\n",
    "\n",
    "my_brush = circular_brush(7)\n",
    "my_brush = notched_square_brush(5, 1)\n",
    "show_mask(my_brush)"
   ]
  },
  {
   "cell_type": "markdown",
   "id": "66a24303-df84-4c54-8726-a3107a44963c",
   "metadata": {},
   "source": [
    "## Latent Design\n",
    "It's not very well explained in the paper what the latent design actually is. In this case we'll just assume it's an array of the same shape as the design, but with continuous values between 0 and 1."
   ]
  },
  {
   "cell_type": "code",
   "execution_count": null,
   "id": "d6c4b1e6-63c9-48fb-be8d-11efb946b29e",
   "metadata": {},
   "outputs": [],
   "source": [
    "# export\n",
    "def new_latent_design(shape, bias=0, r=None):\n",
    "    arr = randn(shape, r=r)\n",
    "    arr += bias\n",
    "    return jnp.asarray(arr, dtype=float)"
   ]
  },
  {
   "cell_type": "code",
   "execution_count": null,
   "id": "7568e096-08c7-479d-b901-44181b58cd9d",
   "metadata": {},
   "outputs": [],
   "source": [
    "m,n = 100,100\n",
    "seed=42\n",
    "latent = new_latent_design((m,n), r=seed)\n",
    "plt.imshow(latent, vmin=-3, vmax=3, cmap=\"Greys\")\n",
    "plt.colorbar()\n",
    "plt.show()"
   ]
  },
  {
   "cell_type": "code",
   "execution_count": null,
   "id": "9aa01c51-5ed5-4a37-b590-3891a96a80ae",
   "metadata": {},
   "outputs": [],
   "source": [
    "#with open(f\"latent{seed}_{m}x{n}.bin\", \"wb\") as file:\n",
    "#    file.write(latent.tobytes())"
   ]
  },
  {
   "cell_type": "markdown",
   "id": "40762596-557c-480f-afe4-3dd9ecf3727e",
   "metadata": {},
   "source": [
    "## Transform\n",
    "The transform removes some of the noise from the latent design.  "
   ]
  },
  {
   "cell_type": "code",
   "execution_count": null,
   "id": "6aec5493-01e4-4c6c-b69c-d1d1a99e07ce",
   "metadata": {},
   "outputs": [],
   "source": [
    "# export\n",
    "@jax.jit\n",
    "def transform(latent, brush, beta=5.0):\n",
    "    convolved = conv2d(latent, jnp.asarray(brush, dtype=float)) / brush.sum()\n",
    "    return jnp.tanh(beta * convolved)"
   ]
  },
  {
   "cell_type": "code",
   "execution_count": null,
   "id": "4ba3235a-a1bb-47f5-8aa5-8a51d29cf21c",
   "metadata": {},
   "outputs": [],
   "source": [
    "latent_t = transform(latent, my_brush)\n",
    "plt.imshow(latent_t, cmap=\"Greys\", vmin=-1, vmax=1)\n",
    "plt.colorbar()\n",
    "plt.show()"
   ]
  },
  {
   "cell_type": "markdown",
   "id": "860ce9c5-a960-4f6c-8f32-a190daea8147",
   "metadata": {},
   "source": [
    "## Conditional Generator"
   ]
  },
  {
   "cell_type": "code",
   "execution_count": null,
   "id": "b42064be-bfa9-4f21-b007-41f31513af3e",
   "metadata": {},
   "outputs": [],
   "source": [
    "# export\n",
    "def conditional_algirithm_step(latent_t, design, brush, verbose=False):\n",
    "    maybe_print = print if verbose else (lambda *args, **kwargs: None)\n",
    "    void_touch_mask = design.void_touches == TOUCH_VALID\n",
    "    solid_touch_mask = design.solid_touches == TOUCH_VALID\n",
    "    touch_mask = void_touch_mask | solid_touch_mask\n",
    "\n",
    "    void_free_mask = design.void_touches == TOUCH_FREE\n",
    "    solid_free_mask = design.solid_touches == TOUCH_FREE\n",
    "    free_mask = void_free_mask | solid_free_mask\n",
    "\n",
    "    void_resolving_mask = design.void_touches == TOUCH_RESOLVING\n",
    "    solid_resolving_mask = design.solid_touches == TOUCH_RESOLVING\n",
    "    resolving_mask = void_resolving_mask | solid_resolving_mask\n",
    "\n",
    "    if free_mask.any():\n",
    "        void_selector = jnp.where(void_free_mask, latent_t, 0)\n",
    "        solid_selector = jnp.where(solid_free_mask, latent_t, 0)\n",
    "        if abs(void_selector.sum()) > abs(solid_selector.sum()):\n",
    "            design = take_free_void_touches(design, brush)\n",
    "            maybe_print(f\"take free void.\")\n",
    "        else:\n",
    "            design = take_free_solid_touches(design, brush)\n",
    "            maybe_print(f\"take free solid.\")\n",
    "\n",
    "    elif resolving_mask.any():\n",
    "        void_needs_resolving = void_resolving_mask.any()\n",
    "        solid_needs_resolving = solid_resolving_mask.any()\n",
    "        void_selector = jnp.where(void_resolving_mask, latent_t, np.inf)\n",
    "        solid_selector = jnp.where(solid_resolving_mask, latent_t, -np.inf)\n",
    "\n",
    "        if void_needs_resolving and (not solid_needs_resolving):\n",
    "            i_v, j_v = argmin2d(void_selector)\n",
    "            design = add_void_touch(design, brush, (i_v, j_v))\n",
    "            maybe_print(f\"resolve void {int(i_v), int(j_v)}.\")\n",
    "        elif (not void_needs_resolving) and solid_needs_resolving:\n",
    "            i_s, j_s = argmax2d(solid_selector)\n",
    "            design = add_solid_touch(design, brush, (i_s, j_s))\n",
    "            maybe_print(f\"resolve solid {int(i_s), int(j_s)}.\")\n",
    "        else:  # both need resolving. TODO: figure out if we actually need this case...\n",
    "            i_v, j_v = argmin2d(void_selector)\n",
    "            v = latent_t[i_v, j_v]\n",
    "            i_s, j_s = argmax2d(solid_selector)\n",
    "            s = latent_t[i_s, j_s]\n",
    "            if abs(v) > abs(s):\n",
    "                design = add_void_touch(design, brush, (i_v, j_v))\n",
    "                maybe_print(f\"resolve void {int(i_v), int(j_v)}.\")\n",
    "            else:\n",
    "                design = add_solid_touch(design, brush, (i_s, j_s))\n",
    "                maybe_print(f\"resolve solid {int(i_s), int(j_s)}.\")\n",
    "\n",
    "    elif touch_mask.any():\n",
    "        void_selector = jnp.where(void_touch_mask, latent_t, np.inf)\n",
    "        solid_selector = jnp.where(solid_touch_mask, latent_t, -np.inf)\n",
    "        i_v, j_v = argmin2d(void_selector)\n",
    "        v = latent_t[i_v, j_v]\n",
    "        i_s, j_s = argmax2d(solid_selector)\n",
    "        s = latent_t[i_s, j_s]\n",
    "        if abs(v) > abs(s):\n",
    "            design = add_void_touch(design, brush, (i_v, j_v))\n",
    "            maybe_print(f\"touch void {int(i_v), int(j_v)}.\")\n",
    "        else:\n",
    "            design = add_solid_touch(design, brush, (i_s, j_s))\n",
    "            maybe_print(f\"touch solid {int(i_s), int(j_s)}.\")\n",
    "    else:\n",
    "        raise ValueError(\"This should never happen.\")\n",
    "\n",
    "    return design"
   ]
  },
  {
   "cell_type": "code",
   "execution_count": null,
   "id": "c97a231c-8f80-462b-95b9-8c967a1a8aaa",
   "metadata": {},
   "outputs": [],
   "source": [
    "# export\n",
    "def conditional_generator(latent_t, brush, verbose=False):\n",
    "    I = 0\n",
    "    design = new_design(latent_t.shape)\n",
    "    maybe_print = print if verbose else (lambda *args, **kwargs: None)\n",
    "    maybe_print(f\"create empty design.\")\n",
    "    yield design\n",
    "    while (design.design == UNASSIGNED).any():\n",
    "        maybe_print(f\"iteration {I}\")\n",
    "        I += 1\n",
    "        design = conditional_algirithm_step(latent_t, design, brush, verbose=verbose)\n",
    "        yield design"
   ]
  },
  {
   "cell_type": "code",
   "execution_count": null,
   "id": "cfd58215-80fc-4e07-9030-6348af48a0af",
   "metadata": {},
   "outputs": [],
   "source": [
    "# export\n",
    "def generate_feasible_design(latent_t, brush, verbose=False):\n",
    "    design = None\n",
    "    for design in conditional_generator(latent_t, brush, verbose=verbose):\n",
    "        continue\n",
    "    return design"
   ]
  },
  {
   "cell_type": "code",
   "execution_count": null,
   "id": "585b2a34-ed6e-46e2-bb25-6ebcb5de631d",
   "metadata": {},
   "outputs": [],
   "source": [
    "%time my_design = generate_feasible_design(latent_t, my_brush, verbose=False)\n",
    "my_design"
   ]
  },
  {
   "cell_type": "code",
   "execution_count": null,
   "id": "b2b9f711-1fd7-491f-8136-d3d22f4f67da",
   "metadata": {},
   "outputs": [],
   "source": [
    "latent_t = transform(latent, my_brush)\n",
    "plt.imshow(latent_t, cmap=\"Greys\", vmin=-1, vmax=1)\n",
    "plt.colorbar()\n",
    "plt.show()"
   ]
  },
  {
   "cell_type": "markdown",
   "id": "a1eaad68-fd90-4877-856a-6e45b849714b",
   "metadata": {},
   "source": [
    "In practice however, it's probably more useful to generate a design *mask* straight away (+1.0 for solid, -1.0 for void):"
   ]
  },
  {
   "cell_type": "code",
   "execution_count": null,
   "id": "7e6c2b52-922e-41ba-bb90-ecea4000dbec",
   "metadata": {},
   "outputs": [],
   "source": [
    "# export\n",
    "def generate_feasible_design_mask_(latent_t, brush):\n",
    "    design = generate_feasible_design(latent_t, brush, verbose=False)\n",
    "    return design_mask(design)"
   ]
  },
  {
   "cell_type": "code",
   "execution_count": null,
   "id": "8270876b-e581-431d-b0f0-e0ac99ea1120",
   "metadata": {},
   "outputs": [],
   "source": [
    "my_design_mask = generate_feasible_design_mask_(latent_t, my_brush)\n",
    "my_design_mask.shape"
   ]
  },
  {
   "cell_type": "code",
   "execution_count": null,
   "id": "6d0d3d36-8d33-463b-a6e7-e72fb682e9da",
   "metadata": {},
   "outputs": [],
   "source": [
    "plt.imshow(my_design_mask, cmap=\"Greys\", vmin=-1, vmax=1)\n",
    "plt.colorbar()\n",
    "plt.show()"
   ]
  },
  {
   "cell_type": "markdown",
   "id": "e4a1e432-5ce5-4ae6-9810-57c55bbb2758",
   "metadata": {},
   "source": [
    "## Straight Through Estimator"
   ]
  },
  {
   "cell_type": "markdown",
   "id": "80285f2d-e746-4be9-94b2-b376581e819a",
   "metadata": {},
   "source": [
    "We cannot just call `jax.grad` on our feasible design mask generator. All gradients will be zero as our mask generator is not differentiable..."
   ]
  },
  {
   "cell_type": "code",
   "execution_count": null,
   "id": "312130ca-f676-48ac-a43e-eaa9920e312f",
   "metadata": {},
   "outputs": [],
   "source": [
    "def my_test_loss_function_(latent_t, brush):\n",
    "    return generate_feasible_design_mask_(latent_t, brush).mean()"
   ]
  },
  {
   "cell_type": "code",
   "execution_count": null,
   "id": "e84a8ac2-02f2-44f5-ba6c-e491ec268dfc",
   "metadata": {},
   "outputs": [],
   "source": [
    "g = jax.grad(my_test_loss_function_)\n",
    "assert (g(latent_t, my_brush) == 0).all()"
   ]
  },
  {
   "cell_type": "markdown",
   "id": "8dbc927d-c1c4-441e-ba91-2d32fdc02f35",
   "metadata": {},
   "source": [
    "In stead, we use a straight-through estimator (a.k.a. identity function) for our feasible design:"
   ]
  },
  {
   "cell_type": "code",
   "execution_count": null,
   "id": "87e31ffb-2583-4bf7-a019-bf92b68f4cdc",
   "metadata": {},
   "outputs": [],
   "source": [
    "# export\n",
    "@jax.custom_jvp\n",
    "def generate_feasible_design_mask(latent_t, brush):\n",
    "    design = generate_feasible_design(latent_t, brush, verbose=False)\n",
    "    return design_mask(design)"
   ]
  },
  {
   "cell_type": "code",
   "execution_count": null,
   "id": "eb6554ab-f4bb-4a4a-8135-4b9fa8fd10bc",
   "metadata": {},
   "outputs": [],
   "source": [
    "# export\n",
    "@generate_feasible_design_mask.defjvp\n",
    "def generate_feasible_design_mask_jvp(primals, tangents):\n",
    "    return primals[0], tangents[0]  # identity function for first argument: latent_t"
   ]
  },
  {
   "cell_type": "code",
   "execution_count": null,
   "id": "c0a8eb70-ee5e-411b-8f53-bcbd9c636fd1",
   "metadata": {},
   "outputs": [],
   "source": [
    "def my_test_loss_function(latent_t, brush):\n",
    "    return generate_feasible_design_mask(latent_t, brush).mean()"
   ]
  },
  {
   "cell_type": "code",
   "execution_count": null,
   "id": "646a9ab1-8668-403a-9505-fed21b73e605",
   "metadata": {},
   "outputs": [],
   "source": [
    "g = jax.grad(my_test_loss_function)\n",
    "assert (g(latent_t, my_brush) != 0).any()"
   ]
  }
 ],
 "metadata": {
  "kernelspec": {
   "display_name": "x",
   "language": "python",
   "name": "x"
  }
 },
 "nbformat": 4,
 "nbformat_minor": 5
}
