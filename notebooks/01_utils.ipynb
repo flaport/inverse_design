{
 "cells": [
  {
   "cell_type": "code",
   "execution_count": null,
   "id": "b832048c-007f-48ef-bce4-2d535f350a84",
   "metadata": {},
   "outputs": [],
   "source": [
    "# default_exp utils"
   ]
  },
  {
   "cell_type": "markdown",
   "id": "af4f4bbf-9cc8-490c-88ba-5310a9723a3b",
   "metadata": {},
   "source": [
    "# Utils\n",
    "> Utilities & Convenience functions..."
   ]
  },
  {
   "cell_type": "code",
   "execution_count": null,
   "id": "fd821dfc-0763-49f3-9c83-4e7bb20050d9",
   "metadata": {},
   "outputs": [],
   "source": [
    "# hide\n",
    "import sys; sys.path.insert(0, '..') # make sure rust binary can be found..."
   ]
  },
  {
   "cell_type": "code",
   "execution_count": null,
   "id": "5f43fb49-471d-4caa-b718-320de40278f6",
   "metadata": {},
   "outputs": [],
   "source": [
    "# exporti\n",
    "from functools import partial, wraps\n",
    "\n",
    "import jax\n",
    "import jax.numpy as jnp\n",
    "import numpy as np\n",
    "from jax import lax\n",
    "from jax.lib import xla_bridge"
   ]
  },
  {
   "cell_type": "markdown",
   "id": "6ed17d19-3eb8-41a2-a966-c1068ed935ee",
   "metadata": {},
   "source": [
    "## Convolutions"
   ]
  },
  {
   "cell_type": "code",
   "execution_count": null,
   "id": "a1021afb-2070-407c-b056-3e51ecd3b891",
   "metadata": {},
   "outputs": [],
   "source": [
    "# export\n",
    "@partial(jax.jit, static_argnames=(\"window_strides\", \"padding\"))\n",
    "def conv(lhs, rhs, window_strides=(1, 1), padding=\"SAME\", **kwargs):\n",
    "    if xla_bridge.get_backend().platform == \"cpu\":\n",
    "        return lax.conv(lhs, rhs, window_strides, padding, **kwargs)\n",
    "    else:  # gpu can only do float convolutions...\n",
    "        if not lhs.dtype == rhs.dtype:\n",
    "            raise ValueError(\n",
    "                f\"Cannot do convolution. Different dtypes for \"\n",
    "                f\"'lhs' and 'rhs'. Got: {lhs.dtype}, {rhs.dtype}\"\n",
    "            )\n",
    "        dtype = lhs.dtype\n",
    "        if dtype not in (jnp.float16, jnp.float32, jnp.float64):\n",
    "            lhs = jnp.asarray(lhs, dtype=float)\n",
    "            rhs = jnp.asarray(rhs, dtype=float)\n",
    "        result = lax.conv(lhs, rhs, window_strides, padding, **kwargs)\n",
    "        if dtype == bool:\n",
    "            result = result > 1e-5\n",
    "        elif dtype not in (jnp.float16, jnp.float32, jnp.float64):\n",
    "            result = jnp.asarray(result, dtype=dtype)\n",
    "        return result"
   ]
  },
  {
   "cell_type": "code",
   "execution_count": null,
   "id": "11513405-fddc-49fe-a39c-8b20c4a5564f",
   "metadata": {},
   "outputs": [],
   "source": [
    "# export\n",
    "@wraps(conv)\n",
    "def conv2d(lhs, rhs, window_strides=(1, 1), padding=\"SAME\", **kwargs):\n",
    "    lhs = lhs[None, None, :, :]\n",
    "    rhs = rhs[None, None, :, :]\n",
    "    result = conv(lhs, rhs, window_strides, padding, **kwargs)[0, 0, :, :]\n",
    "    return result"
   ]
  },
  {
   "cell_type": "code",
   "execution_count": null,
   "id": "595056b2-c3e1-4d5e-903b-0ba5b01373cb",
   "metadata": {},
   "outputs": [],
   "source": [
    "# export\n",
    "@wraps(conv)\n",
    "def batch_conv2d(lhs, rhs, window_strides=(1, 1), padding=\"SAME\", **kwargs):\n",
    "    lhs = lhs[:, None, :, :]\n",
    "    rhs = rhs[:, None, :, :]\n",
    "    return conv(lhs, rhs, window_strides, padding, **kwargs)[:, 0, :, :]"
   ]
  },
  {
   "cell_type": "code",
   "execution_count": null,
   "id": "c163fe81-6086-4f2b-94f0-8bab86698d40",
   "metadata": {},
   "outputs": [],
   "source": [
    "# export\n",
    "def dilute(touches, brush):\n",
    "    return conv2d(lhs=touches, rhs=brush, window_strides=(1, 1), padding=\"SAME\")"
   ]
  },
  {
   "cell_type": "markdown",
   "id": "969b1df3-21d6-4ad1-a338-aae0b03f9121",
   "metadata": {},
   "source": [
    "## Random"
   ]
  },
  {
   "cell_type": "markdown",
   "id": "37566827-6a2a-4cb4-b04a-c0160a5f7c0d",
   "metadata": {},
   "source": [
    "I just can't be bothered doing this the JAX way..."
   ]
  },
  {
   "cell_type": "code",
   "execution_count": null,
   "id": "40eabbf7-9e90-406a-80d7-cb8380a7b744",
   "metadata": {},
   "outputs": [],
   "source": [
    "# export\n",
    "def randn(shape, r=None, dtype=float):\n",
    "    if r is not None:\n",
    "        if isinstance(r, int):\n",
    "            r = np.random.RandomState(seed=r)\n",
    "    else:\n",
    "        r = np.random\n",
    "    return jnp.asarray(r.randn(*shape), dtype=dtype)"
   ]
  },
  {
   "cell_type": "code",
   "execution_count": null,
   "id": "c19fe4dc-8205-4aab-9ce6-a974fd503de6",
   "metadata": {},
   "outputs": [],
   "source": [
    "# export\n",
    "def rand(shape, r=None, dtype=float):\n",
    "    if r is not None:\n",
    "        if isinstance(r, int):\n",
    "            r = np.random.RandomState(seed=r)\n",
    "    else:\n",
    "        r = np.random\n",
    "    return jnp.asarray(r.rand(*shape), dtype=dtype)"
   ]
  },
  {
   "cell_type": "markdown",
   "id": "d57895ae-a0e2-4d0c-b0da-0aace930e025",
   "metadata": {},
   "source": [
    "## Argmax / Argmin"
   ]
  },
  {
   "cell_type": "code",
   "execution_count": null,
   "id": "fa527d02-3207-4214-9c50-d7997eca746d",
   "metadata": {},
   "outputs": [],
   "source": [
    "# export\n",
    "@jax.jit\n",
    "def argmax2d(arr2d):\n",
    "    _, n = arr2d.shape\n",
    "    arr1d = arr2d.ravel()\n",
    "    k = jnp.argmax(arr1d)\n",
    "    return k // n, k % n"
   ]
  },
  {
   "cell_type": "code",
   "execution_count": null,
   "id": "a89e2776-9563-47c6-93b7-b54b2e68b883",
   "metadata": {},
   "outputs": [],
   "source": [
    "# export\n",
    "@jax.jit\n",
    "def argmin2d(arr2d):\n",
    "    _, n = arr2d.shape\n",
    "    arr1d = arr2d.ravel()\n",
    "    k = jnp.argmin(arr1d)\n",
    "    return k // n, k % n"
   ]
  }
 ],
 "metadata": {
  "kernelspec": {
   "display_name": "x",
   "language": "python",
   "name": "x"
  }
 },
 "nbformat": 4,
 "nbformat_minor": 5
}
