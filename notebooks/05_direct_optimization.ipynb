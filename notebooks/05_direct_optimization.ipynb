{
 "cells": [
  {
   "cell_type": "code",
   "execution_count": null,
   "id": "87dacf7c-99f3-4570-995e-ec421e505157",
   "metadata": {},
   "outputs": [],
   "source": [
    "# default_exp direct_optimization"
   ]
  },
  {
   "cell_type": "markdown",
   "id": "44c6518e-b67c-410c-8aec-faff839eb183",
   "metadata": {},
   "source": [
    "# Direct Optimization\n",
    "> Let's leave the physics simulator out of it for now..."
   ]
  },
  {
   "cell_type": "code",
   "execution_count": null,
   "id": "42c2d02e-9e44-4504-96cd-a2475af813a2",
   "metadata": {},
   "outputs": [],
   "source": [
    "# hide\n",
    "import sys; sys.path.insert(0, '..') # make sure rust binary can be found..."
   ]
  },
  {
   "cell_type": "code",
   "execution_count": null,
   "id": "9b4a12fe-f188-4bff-ab38-837b9f29e8fe",
   "metadata": {},
   "outputs": [],
   "source": [
    "# export\n",
    "import jax\n",
    "from inverse_design.brushes import notched_square_brush\n",
    "from inverse_design.conditional_generator import (\n",
    "    generate_feasible_design_mask,\n",
    "    new_latent_design,\n",
    "    transform,\n",
    ")\n",
    "from jax.example_libraries.optimizers import adam\n",
    "from tqdm.notebook import trange"
   ]
  },
  {
   "cell_type": "code",
   "execution_count": null,
   "id": "e9589cd5-f230-4b18-a2e7-5e2f02934fb3",
   "metadata": {},
   "outputs": [],
   "source": [
    "# hide\n",
    "import matplotlib.pyplot as plt"
   ]
  },
  {
   "cell_type": "markdown",
   "id": "e53ceca3-3d48-43cc-aa11-664160a7047d",
   "metadata": {},
   "source": [
    "## Data"
   ]
  },
  {
   "cell_type": "code",
   "execution_count": null,
   "id": "e64447a7-69b6-4522-a056-27f9b5ec289d",
   "metadata": {},
   "outputs": [],
   "source": [
    "shape = (M, N) = (30, 30)"
   ]
  },
  {
   "cell_type": "markdown",
   "id": "c0128321-47fe-42bd-9243-bac181f2a0b3",
   "metadata": {},
   "source": [
    "### target\n",
    "Let's - for now - just try to find a pre-defined design target (which we will construct with our generator)..."
   ]
  },
  {
   "cell_type": "code",
   "execution_count": null,
   "id": "31d7364f-baca-4c05-aca6-71dbf9cf42e4",
   "metadata": {},
   "outputs": [],
   "source": [
    "brush_target = notched_square_brush(5, 1)\n",
    "latent_target = new_latent_design(shape, r=42)\n",
    "latent_target_t = transform(latent_target, brush_target)\n",
    "mask_target = generate_feasible_design_mask(latent_target_t, brush_target)\n",
    "\n",
    "plt.imshow(mask_target, cmap=\"Greys\")\n",
    "plt.colorbar()\n",
    "plt.show()"
   ]
  },
  {
   "cell_type": "markdown",
   "id": "25aedaf6-8121-4db0-86af-1e405abd2be2",
   "metadata": {},
   "source": [
    "### input"
   ]
  },
  {
   "cell_type": "code",
   "execution_count": null,
   "id": "c8d34d01-2d40-47c0-9380-84700f642ad6",
   "metadata": {},
   "outputs": [],
   "source": [
    "brush_input = notched_square_brush(5, 1)\n",
    "latent_input = new_latent_design(shape, r=0)\n",
    "latent_input_t = transform(latent_input, brush_input)\n",
    "mask_input = generate_feasible_design_mask(latent_input_t, brush_target)\n",
    "\n",
    "plt.imshow(mask_input, cmap=\"Greys\")\n",
    "plt.colorbar()\n",
    "plt.show()"
   ]
  },
  {
   "cell_type": "markdown",
   "id": "aa57c563-66d1-4f61-9a41-366a5ea06468",
   "metadata": {},
   "source": [
    "## Loss Functions"
   ]
  },
  {
   "cell_type": "code",
   "execution_count": null,
   "id": "b1c8578a-5b62-4245-b71f-5e2b884bdaff",
   "metadata": {},
   "outputs": [],
   "source": [
    "# export\n",
    "def mse(x, y) -> float:\n",
    "    return ((x - y) ** 2).mean()"
   ]
  },
  {
   "cell_type": "code",
   "execution_count": null,
   "id": "cd26be28-1754-439c-b005-6b6c9e416123",
   "metadata": {},
   "outputs": [],
   "source": [
    "# export\n",
    "def huber_loss(x, y, delta=0.5) -> float:\n",
    "    return ((delta**2) * ((1.0 + ((x - y) / delta) ** 2) ** 0.5 - 1.0)).mean()"
   ]
  },
  {
   "cell_type": "markdown",
   "id": "035ece2c-6cae-4a37-9315-e32a46fd44a5",
   "metadata": {},
   "source": [
    "## Optimization"
   ]
  },
  {
   "cell_type": "markdown",
   "id": "1485282c-9ad3-453f-a1cb-e803cc7dd80c",
   "metadata": {},
   "source": [
    "the loss function defines what we're optimizing."
   ]
  },
  {
   "cell_type": "code",
   "execution_count": null,
   "id": "1544a8dd-1fbc-4a61-aa93-28ca2fd460c4",
   "metadata": {},
   "outputs": [],
   "source": [
    "def forward(latent, brush):\n",
    "    latent_t = transform(latent, brush)\n",
    "    design_mask = generate_feasible_design_mask(latent_t, brush) # differentiable through STE\n",
    "    return design_mask\n",
    "    \n",
    "def loss_fn(latent, brush, target_mask):\n",
    "    design_mask = forward(latent, brush)\n",
    "    return huber_loss(design_mask, target_mask)\n",
    "\n",
    "loss_fn(latent_input, brush_input, mask_target)"
   ]
  },
  {
   "cell_type": "markdown",
   "id": "8ec33e3c-1fb0-4fbf-9a26-1c96e72e6f31",
   "metadata": {},
   "source": [
    "using jax, it's easy to get the gradient function."
   ]
  },
  {
   "cell_type": "code",
   "execution_count": null,
   "id": "077212a0-ca67-45f5-b0c5-169c99901b7c",
   "metadata": {},
   "outputs": [],
   "source": [
    "grad_fn = jax.grad(loss_fn, argnums=0)"
   ]
  },
  {
   "cell_type": "markdown",
   "id": "51a52841-0fec-4234-a0eb-eb2c2b1a3cbe",
   "metadata": {},
   "source": [
    "let's use an Adam optimizer"
   ]
  },
  {
   "cell_type": "code",
   "execution_count": null,
   "id": "b9bbc1ff-6f67-45db-8b3f-60864afa78c5",
   "metadata": {},
   "outputs": [],
   "source": [
    "init_fn, update_fn, params_fn = adam(0.1)\n",
    "state = init_fn(latent_input)"
   ]
  },
  {
   "cell_type": "markdown",
   "id": "85c87a5b-dea5-44a4-a0ed-511abb5a95db",
   "metadata": {},
   "source": [
    "this is the optimization step:"
   ]
  },
  {
   "cell_type": "code",
   "execution_count": null,
   "id": "79a9a5a0-2514-42ed-a17b-883e57b3031e",
   "metadata": {},
   "outputs": [],
   "source": [
    "def step_fn(step, state, brush, mask_target):\n",
    "    latent = params_fn(state)\n",
    "    loss = loss_fn(latent, brush, mask_target)\n",
    "    grads = grad_fn(latent, brush, mask_target)\n",
    "    optim_state = update_fn(step, grads, state)\n",
    "    return loss, optim_state"
   ]
  },
  {
   "cell_type": "markdown",
   "id": "f684cc74-4eb7-42f0-b802-abd1f8cb9098",
   "metadata": {},
   "source": [
    "we can now loop over the optimization:"
   ]
  },
  {
   "cell_type": "code",
   "execution_count": null,
   "id": "fe554a54-ebe0-4603-beae-55ed775a54a6",
   "metadata": {},
   "outputs": [],
   "source": [
    "range_ = trange(50)\n",
    "for step in range_:\n",
    "    loss, state = step_fn(step, state, brush_input, mask_target)\n",
    "    range_.set_postfix(loss=float(loss))\n",
    "latent_input = params_fn(state)"
   ]
  },
  {
   "cell_type": "code",
   "execution_count": null,
   "id": "d9b98003-ce36-48f4-bb18-bb5a386cf64e",
   "metadata": {},
   "outputs": [],
   "source": [
    "plt.imshow(mask_target, cmap=\"Greys\", vmin=-1, vmax=1)\n",
    "plt.colorbar()\n",
    "plt.show()"
   ]
  },
  {
   "cell_type": "code",
   "execution_count": null,
   "id": "d8516bcb-3b02-4efc-a7fc-b7a9d96f167b",
   "metadata": {},
   "outputs": [],
   "source": [
    "plt.imshow(forward(latent_input, brush_input), cmap=\"Greys\", vmin=-1, vmax=1)\n",
    "plt.colorbar()\n",
    "plt.show()"
   ]
  },
  {
   "cell_type": "code",
   "execution_count": null,
   "id": "61f2e0e9-52cb-4eb2-84bf-eed2d0329ffe",
   "metadata": {},
   "outputs": [],
   "source": [
    "loss_fn(latent_input, brush_input, mask_target)"
   ]
  }
 ],
 "metadata": {
  "kernelspec": {
   "display_name": "x",
   "language": "python",
   "name": "x"
  }
 },
 "nbformat": 4,
 "nbformat_minor": 5
}
